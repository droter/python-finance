{
 "metadata": {
  "name": "",
  "signature": "sha256:183544e53f6f789e51578098dc3aafc8f50028d233c9f5d235796243a725d753"
 },
 "nbformat": 3,
 "nbformat_minor": 0,
 "worksheets": []
}