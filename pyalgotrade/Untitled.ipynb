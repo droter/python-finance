{
 "cells": [
  {
   "cell_type": "code",
   "execution_count": 7,
   "metadata": {
    "collapsed": false
   },
   "outputs": [
    {
     "name": "stderr",
     "output_type": "stream",
     "text": [
      "INFO:server:Loading bars\n",
      "2015-09-15 09:42:57,072 server [INFO] Loading bars\n",
      "INFO:server:Waiting for workers\n",
      "2015-09-15 09:42:57,325 server [INFO] Waiting for workers\n",
      "ERROR:server:No jobs processed\n",
      "2015-09-15 09:42:57,325 server [ERROR] No jobs processed\n"
     ]
    }
   ],
   "source": [
    "import itertools\n",
    "from pyalgotrade.optimizer import local\n",
    "from pyalgotrade.barfeed import yahoofeed\n",
    "import rsi2\n",
    "\n",
    "def parameters_generator():\n",
    "    instrument = [\"dia\"]\n",
    "    entrySMA = range(150, 251)\n",
    "    exitSMA = range(5, 16)\n",
    "    rsiPeriod = range(2, 11)\n",
    "    overBoughtThreshold = range(75, 96)\n",
    "    overSoldThreshold = range(5, 26)\n",
    "    return itertools.product(instrument, entrySMA, exitSMA, rsiPeriod, overBoughtThreshold, overSoldThreshold)\n",
    "\n",
    "\n",
    "# The if __name__ == '__main__' part is necessary if running on Windows.\n",
    "if __name__ == '__main__':\n",
    "    # Load the feed from the CSV files.\n",
    "    feed = yahoofeed.Feed()\n",
    "    feed.addBarsFromCSV(\"dia\", \"dia-2009.csv\")\n",
    "    feed.addBarsFromCSV(\"dia\", \"dia-2010.csv\")\n",
    "    feed.addBarsFromCSV(\"dia\", \"dia-2011.csv\")\n",
    "\n",
    "    local.run(rsi2.RSI2, feed, parameters_generator())"
   ]
  },
  {
   "cell_type": "code",
   "execution_count": null,
   "metadata": {
    "collapsed": true
   },
   "outputs": [],
   "source": []
  }
 ],
 "metadata": {
  "kernelspec": {
   "display_name": "Python 2",
   "language": "python",
   "name": "python2"
  },
  "language_info": {
   "codemirror_mode": {
    "name": "ipython",
    "version": 2
   },
   "file_extension": ".py",
   "mimetype": "text/x-python",
   "name": "python",
   "nbconvert_exporter": "python",
   "pygments_lexer": "ipython2",
   "version": "2.7.6"
  }
 },
 "nbformat": 4,
 "nbformat_minor": 0
}
