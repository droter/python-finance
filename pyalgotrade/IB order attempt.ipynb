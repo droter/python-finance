{
 "cells": [
  {
   "cell_type": "code",
   "execution_count": 2,
   "metadata": {
    "collapsed": false
   },
   "outputs": [],
   "source": [
    "from ib.opt import Connection, message\n",
    "from ib.ext.Contract import Contract\n",
    "from ib.ext.Order import Order"
   ]
  },
  {
   "cell_type": "code",
   "execution_count": 3,
   "metadata": {
    "collapsed": false
   },
   "outputs": [],
   "source": [
    "def make_contract(symbol, sec_type, exch, prim_exchange, curr):\n",
    "    Contract.m_symbol = symbol\n",
    "    Contract.m_secType = sec_type\n",
    "    Contract.m_exchange = exch\n",
    "    Contract.m_primaryExch = prim_exch\n",
    "    Contract.m_currency = curr\n",
    "    return Contract"
   ]
  },
  {
   "cell_type": "code",
   "execution_count": null,
   "metadata": {
    "collapsed": false
   },
   "outputs": [
    {
     "name": "stdout",
     "output_type": "stream",
     "text": [
      "Server Version: 76\n",
      "TWS Time at connection:20150913 18:18:57 EST\n",
      "enter to resend\n",
      "Server Version: 76\n",
      "TWS Time at connection:20150913 18:20:07 EST\n",
      "enter to resend\n",
      "Server Version: 76\n",
      "TWS Time at connection:20150913 18:20:32 EST\n"
     ]
    }
   ],
   "source": [
    "from ib.opt import Connection, message\n",
    "from ib.ext.Contract import Contract\n",
    "from ib.ext.Order import Order\n",
    "\n",
    "def make_contract(symbol, sec_type, exch, prim_exch, curr):\n",
    "\n",
    "    Contract.m_symbol = symbol\n",
    "    Contract.m_secType = sec_type\n",
    "    Contract.m_exchange = exch\n",
    "    Contract.m_primaryExch = prim_exch\n",
    "    Contract.m_currency = curr\n",
    "    return Contract\n",
    "\n",
    "\n",
    "\n",
    "def make_order(action,quantity, price = None):\n",
    "\n",
    "    if price is not None:\n",
    "        order = Order()\n",
    "        order.m_orderType = 'LMT'\n",
    "        order.m_totalQuantity = quantity\n",
    "        order.m_action = action\n",
    "        order.m_lmtPrice = price\n",
    "\n",
    "    else:\n",
    "        order = Order()\n",
    "        order.m_orderType = 'MKT'\n",
    "        order.m_totalQuantity = quantity\n",
    "        order.m_action = action\n",
    "\n",
    "        \n",
    "    return order\n",
    "\n",
    "\n",
    "cid = 303\n",
    "\n",
    "while __name__ == \"__main__\":\n",
    "\n",
    "    conn = Connection.create(port=7496, clientId=999)\n",
    "    conn.connect()\n",
    "    oid = cid\n",
    "    cont = make_contract('TSLA', 'STK', 'SMART', 'SMART', 'USD')\n",
    "    offer = make_order('BUY', 1, 200)\n",
    "    conn.placeOrder(oid, cont, offer)\n",
    "    conn.disconnect()\n",
    "    x = raw_input('enter to resend')\n",
    "    cid += 1"
   ]
  },
  {
   "cell_type": "code",
   "execution_count": null,
   "metadata": {
    "collapsed": true
   },
   "outputs": [],
   "source": []
  }
 ],
 "metadata": {
  "kernelspec": {
   "display_name": "Python 2",
   "language": "python",
   "name": "python2"
  },
  "language_info": {
   "codemirror_mode": {
    "name": "ipython",
    "version": 2
   },
   "file_extension": ".py",
   "mimetype": "text/x-python",
   "name": "python",
   "nbconvert_exporter": "python",
   "pygments_lexer": "ipython2",
   "version": "2.7.6"
  }
 },
 "nbformat": 4,
 "nbformat_minor": 0
}
