{
 "metadata": {
  "name": "",
  "signature": "sha256:b725088303b3195abf1190fa2104ec3f7b43e42bd55120c72f73e411ef0bb762"
 },
 "nbformat": 3,
 "nbformat_minor": 0,
 "worksheets": [
  {
   "cells": [
    {
     "cell_type": "code",
     "collapsed": false,
     "input": [
      "\n",
      "# Copyright (C) 2004, 2005, 2006, 2007 StatPro Italia srl\n",
      "#\n",
      "# This file is part of QuantLib, a free-software/open-source library\n",
      "# for financial quantitative analysts and developers - http://quantlib.org/\n",
      "#\n",
      "# QuantLib is free software: you can redistribute it and/or modify it under the\n",
      "# terms of the QuantLib license.  You should have received a copy of the\n",
      "# license along with this program; if not, please email\n",
      "# <quantlib-dev@lists.sf.net>. The license is also available online at\n",
      "# <http://quantlib.org/license.shtml>.\n",
      "#\n",
      "# This program is distributed in the hope that it will be useful, but WITHOUT\n",
      "# ANY WARRANTY; without even the implied warranty of MERCHANTABILITY or FITNESS\n",
      "# FOR A PARTICULAR PURPOSE.  See the license for more details.\n",
      "\n",
      "from QuantLib import *\n",
      "\n",
      "# global data\n",
      "todaysDate = Date(15,May,1998)\n",
      "Settings.instance().evaluationDate = todaysDate\n",
      "settlementDate = Date(17,May,1998)\n",
      "riskFreeRate = FlatForward(settlementDate, 0.06, Actual365Fixed())\n",
      "\n",
      "# option parameters\n",
      "exercise = AmericanExercise(settlementDate, Date(17,May,1999))\n",
      "payoff = PlainVanillaPayoff(Option.Put, 40.0)\n",
      "\n",
      "# market data\n",
      "underlying = SimpleQuote(36.0)\n",
      "volatility = BlackConstantVol(todaysDate, TARGET(), 0.20, Actual365Fixed())\n",
      "dividendYield = FlatForward(settlementDate, 0.00, Actual365Fixed())\n",
      "\n",
      "# report\n",
      "header = '%19s' % 'method' + ' |' + \\\n",
      "         ' |'.join(['%17s' % tag for tag in ['value',\n",
      "                                            'estimated error',\n",
      "                                            'actual error' ] ])\n",
      "print\n",
      "print header\n",
      "print '-'*len(header)\n",
      "\n",
      "refValue = None\n",
      "def report(method, x, dx = None):\n",
      "    e = '%.4f' % abs(x-refValue)\n",
      "    x = '%.5f' % x\n",
      "    if dx:\n",
      "        dx = '%.4f' % dx\n",
      "    else:\n",
      "        dx = 'n/a'\n",
      "    print '%19s' % method + ' |' + \\\n",
      "          ' |'.join(['%17s' % y for y in [x, dx, e] ])\n",
      "\n",
      "# good to go\n",
      "\n",
      "process = BlackScholesMertonProcess(QuoteHandle(underlying),\n",
      "                                    YieldTermStructureHandle(dividendYield),\n",
      "                                    YieldTermStructureHandle(riskFreeRate),\n",
      "                                    BlackVolTermStructureHandle(volatility))\n",
      "\n",
      "option = VanillaOption(payoff, exercise)\n",
      "\n",
      "refValue = 4.48667344\n",
      "report('reference value',refValue)\n",
      "\n",
      "# method: analytic\n",
      "\n",
      "option.setPricingEngine(BaroneAdesiWhaleyEngine(process))\n",
      "report('Barone-Adesi-Whaley',option.NPV())\n",
      "\n",
      "option.setPricingEngine(BjerksundStenslandEngine(process))\n",
      "report('Bjerksund-Stensland',option.NPV())\n",
      "\n",
      "# method: finite differences\n",
      "timeSteps = 801\n",
      "gridPoints = 800\n",
      "\n",
      "option.setPricingEngine(FDAmericanEngine(process,timeSteps,gridPoints))\n",
      "report('finite differences',option.NPV())\n",
      "\n",
      "# method: binomial\n",
      "timeSteps = 801\n",
      "\n",
      "option.setPricingEngine(BinomialVanillaEngine(process,'jr',timeSteps))\n",
      "report('binomial (JR)',option.NPV())\n",
      "\n",
      "option.setPricingEngine(BinomialVanillaEngine(process,'crr',timeSteps))\n",
      "report('binomial (CRR)',option.NPV())\n",
      "\n",
      "option.setPricingEngine(BinomialVanillaEngine(process,'eqp',timeSteps))\n",
      "report('binomial (EQP)',option.NPV())\n",
      "\n",
      "option.setPricingEngine(BinomialVanillaEngine(process,'trigeorgis',timeSteps))\n",
      "report('bin. (Trigeorgis)',option.NPV())\n",
      "\n",
      "option.setPricingEngine(BinomialVanillaEngine(process,'tian',timeSteps))\n",
      "report('binomial (Tian)',option.NPV())\n",
      "\n",
      "option.setPricingEngine(BinomialVanillaEngine(process,'lr',timeSteps))\n",
      "report('binomial (LR)',option.NPV())\n"
     ],
     "language": "python",
     "metadata": {},
     "outputs": [
      {
       "output_type": "stream",
       "stream": "stdout",
       "text": [
        "\n",
        "             method |            value |  estimated error |     actual error\n",
        "----------------------------------------------------------------------------\n",
        "    reference value |          4.48667 |              n/a |           0.0000\n",
        "Barone-Adesi-Whaley |          4.46563 |              n/a |           0.0210\n",
        "Bjerksund-Stensland |          4.45885 |              n/a |           0.0278\n",
        " finite differences |          4.49391 |              n/a |           0.0072\n",
        "      binomial (JR) |          4.48655 |              n/a |           0.0001\n",
        "     binomial (CRR) |          4.48642 |              n/a |           0.0003"
       ]
      },
      {
       "output_type": "stream",
       "stream": "stdout",
       "text": [
        "\n",
        "     binomial (EQP) |          4.48010 |              n/a |           0.0066\n",
        "  bin. (Trigeorgis) |          4.48646 |              n/a |           0.0002\n",
        "    binomial (Tian) |          4.48641 |              n/a |           0.0003"
       ]
      },
      {
       "output_type": "stream",
       "stream": "stdout",
       "text": [
        "\n",
        "      binomial (LR) |          4.48608 |              n/a |           0.0006"
       ]
      },
      {
       "output_type": "stream",
       "stream": "stdout",
       "text": [
        "\n"
       ]
      }
     ],
     "prompt_number": 1
    },
    {
     "cell_type": "code",
     "collapsed": false,
     "input": [],
     "language": "python",
     "metadata": {},
     "outputs": []
    }
   ],
   "metadata": {}
  }
 ]
}